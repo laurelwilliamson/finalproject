{
 "cells": [
  {
   "cell_type": "code",
   "execution_count": 3,
   "metadata": {},
   "outputs": [
    {
     "name": "stdout",
     "output_type": "stream",
     "text": [
      "Collecting datapackage\n",
      "  Downloading datapackage-1.15.2-py2.py3-none-any.whl (85 kB)\n",
      "Requirement already satisfied: six>=1.10 in c:\\users\\marisabel matta\\anaconda3\\lib\\site-packages (from datapackage) (1.15.0)\n",
      "Requirement already satisfied: chardet>=3.0 in c:\\users\\marisabel matta\\anaconda3\\lib\\site-packages (from datapackage) (3.0.4)\n",
      "Requirement already satisfied: jsonschema>=2.5 in c:\\users\\marisabel matta\\anaconda3\\lib\\site-packages (from datapackage) (3.2.0)\n",
      "Collecting jsonpointer>=1.10\n",
      "  Downloading jsonpointer-2.1-py2.py3-none-any.whl (7.4 kB)\n",
      "Collecting tableschema>=1.12.1\n",
      "  Downloading tableschema-1.20.2-py2.py3-none-any.whl (68 kB)\n",
      "Requirement already satisfied: unicodecsv>=0.14 in c:\\users\\marisabel matta\\anaconda3\\lib\\site-packages (from datapackage) (0.14.1)\n",
      "Collecting tabulator>=1.29\n",
      "  Downloading tabulator-1.53.5-py2.py3-none-any.whl (72 kB)\n",
      "Requirement already satisfied: requests>=2.8 in c:\\users\\marisabel matta\\anaconda3\\lib\\site-packages (from datapackage) (2.24.0)\n",
      "Requirement already satisfied: click>=6.7 in c:\\users\\marisabel matta\\anaconda3\\lib\\site-packages (from datapackage) (7.1.2)\n",
      "Requirement already satisfied: attrs>=17.4.0 in c:\\users\\marisabel matta\\anaconda3\\lib\\site-packages (from jsonschema>=2.5->datapackage) (20.3.0)\n",
      "Requirement already satisfied: setuptools in c:\\users\\marisabel matta\\anaconda3\\lib\\site-packages (from jsonschema>=2.5->datapackage) (50.3.1.post20201107)\n",
      "Requirement already satisfied: pyrsistent>=0.14.0 in c:\\users\\marisabel matta\\anaconda3\\lib\\site-packages (from jsonschema>=2.5->datapackage) (0.17.3)\n",
      "Collecting cached-property>=1.5\n",
      "  Downloading cached_property-1.5.2-py2.py3-none-any.whl (7.6 kB)\n",
      "Collecting isodate>=0.5.4\n",
      "  Downloading isodate-0.6.0-py2.py3-none-any.whl (45 kB)\n",
      "Collecting rfc3986>=1.1.0\n",
      "  Downloading rfc3986-1.4.0-py2.py3-none-any.whl (31 kB)\n",
      "Requirement already satisfied: python-dateutil>=2.4 in c:\\users\\marisabel matta\\anaconda3\\lib\\site-packages (from tableschema>=1.12.1->datapackage) (2.8.1)\n",
      "Collecting boto3>=1.9\n",
      "  Downloading boto3-1.17.57-py2.py3-none-any.whl (131 kB)\n",
      "Collecting ijson>=3.0.3\n",
      "  Downloading ijson-3.1.4-cp38-cp38-win_amd64.whl (48 kB)\n",
      "Collecting linear-tsv>=1.0\n",
      "  Downloading linear-tsv-1.1.0.tar.gz (9.6 kB)\n",
      "Collecting jsonlines>=1.1\n",
      "  Downloading jsonlines-2.0.0-py3-none-any.whl (6.3 kB)\n",
      "Requirement already satisfied: xlrd>=1.0 in c:\\users\\marisabel matta\\anaconda3\\lib\\site-packages (from tabulator>=1.29->datapackage) (1.2.0)\n",
      "Requirement already satisfied: openpyxl>=2.6 in c:\\users\\marisabel matta\\anaconda3\\lib\\site-packages (from tabulator>=1.29->datapackage) (3.0.5)\n",
      "Requirement already satisfied: sqlalchemy>=0.9.6 in c:\\users\\marisabel matta\\anaconda3\\lib\\site-packages (from tabulator>=1.29->datapackage) (1.3.20)\n",
      "Requirement already satisfied: idna<3,>=2.5 in c:\\users\\marisabel matta\\anaconda3\\lib\\site-packages (from requests>=2.8->datapackage) (2.10)\n",
      "Requirement already satisfied: certifi>=2017.4.17 in c:\\users\\marisabel matta\\anaconda3\\lib\\site-packages (from requests>=2.8->datapackage) (2020.6.20)\n",
      "Requirement already satisfied: urllib3!=1.25.0,!=1.25.1,<1.26,>=1.21.1 in c:\\users\\marisabel matta\\anaconda3\\lib\\site-packages (from requests>=2.8->datapackage) (1.25.11)\n",
      "Collecting botocore<1.21.0,>=1.20.57\n",
      "  Downloading botocore-1.20.57-py2.py3-none-any.whl (7.4 MB)\n",
      "Collecting s3transfer<0.5.0,>=0.4.0\n",
      "  Downloading s3transfer-0.4.2-py2.py3-none-any.whl (79 kB)\n",
      "Collecting jmespath<1.0.0,>=0.7.1\n",
      "  Downloading jmespath-0.10.0-py2.py3-none-any.whl (24 kB)\n",
      "Requirement already satisfied: jdcal in c:\\users\\marisabel matta\\anaconda3\\lib\\site-packages (from openpyxl>=2.6->tabulator>=1.29->datapackage) (1.4.1)\n",
      "Requirement already satisfied: et-xmlfile in c:\\users\\marisabel matta\\anaconda3\\lib\\site-packages (from openpyxl>=2.6->tabulator>=1.29->datapackage) (1.0.1)\n",
      "Building wheels for collected packages: linear-tsv\n",
      "  Building wheel for linear-tsv (setup.py): started\n",
      "  Building wheel for linear-tsv (setup.py): finished with status 'done'\n",
      "  Created wheel for linear-tsv: filename=linear_tsv-1.1.0-py3-none-any.whl size=7388 sha256=571a54ab64b64b098ca7b8adfc56d580869ab28266fff26517baa52481635bcc\n",
      "  Stored in directory: c:\\users\\marisabel matta\\appdata\\local\\pip\\cache\\wheels\\31\\25\\a5\\d9b4b59636e1b9f183b7e1022e7be5c51141717b92398d7f9e\n",
      "Successfully built linear-tsv\n",
      "Installing collected packages: jsonpointer, jmespath, botocore, s3transfer, boto3, ijson, linear-tsv, jsonlines, tabulator, cached-property, isodate, rfc3986, tableschema, datapackage\n",
      "Successfully installed boto3-1.17.57 botocore-1.20.57 cached-property-1.5.2 datapackage-1.15.2 ijson-3.1.4 isodate-0.6.0 jmespath-0.10.0 jsonlines-2.0.0 jsonpointer-2.1 linear-tsv-1.1.0 rfc3986-1.4.0 s3transfer-0.4.2 tableschema-1.20.2 tabulator-1.53.5\n"
     ]
    }
   ],
   "source": [
    "!pip install datapackage"
   ]
  },
  {
   "cell_type": "code",
   "execution_count": 11,
   "metadata": {},
   "outputs": [],
   "source": [
    "import datapackage\n",
    "import pandas as pd\n",
    "\n",
    "data_url = 'https://datahub.io/core/geo-countries/datapackage.json'\n",
    "\n",
    "# to load only tabular data\n",
    "resources = package.resources\n",
    "for resource in resources:\n",
    "    if resource.tabular:\n",
    "        data = pd.read_csv(resource.descriptor['path'])\n",
    "        print (data)"
   ]
  },
  {
   "cell_type": "code",
   "execution_count": 12,
   "metadata": {},
   "outputs": [
    {
     "name": "stdout",
     "output_type": "stream",
     "text": [
      "['validation_report', 'geo-countries_zip', 'countries']\n"
     ]
    }
   ],
   "source": [
    "from datapackage import Package\n",
    "\n",
    "package = Package('https://datahub.io/core/geo-countries/datapackage.json')\n",
    "\n",
    "# print list of all resources:\n",
    "print(package.resource_names)\n",
    "\n",
    "# print processed tabular data (if exists any)\n",
    "for resource in package.resources:\n",
    "    if resource.descriptor['datahub']['type'] == 'derived/csv':\n",
    "        print(resource.read())"
   ]
  },
  {
   "cell_type": "code",
   "execution_count": null,
   "metadata": {},
   "outputs": [],
   "source": []
  },
  {
   "cell_type": "code",
   "execution_count": null,
   "metadata": {},
   "outputs": [],
   "source": []
  }
 ],
 "metadata": {
  "kernelspec": {
   "display_name": "Python 3",
   "language": "python",
   "name": "python3"
  },
  "language_info": {
   "codemirror_mode": {
    "name": "ipython",
    "version": 3
   },
   "file_extension": ".py",
   "mimetype": "text/x-python",
   "name": "python",
   "nbconvert_exporter": "python",
   "pygments_lexer": "ipython3",
   "version": "3.8.5"
  }
 },
 "nbformat": 4,
 "nbformat_minor": 4
}
