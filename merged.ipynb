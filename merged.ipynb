{
 "cells": [
  {
   "cell_type": "code",
   "execution_count": 1,
   "metadata": {},
   "outputs": [],
   "source": [
    "import lux\n",
    "from sklearn import tree\n",
    "import pandas as pd\n",
    "import os"
   ]
  },
  {
   "cell_type": "code",
   "execution_count": 72,
   "metadata": {},
   "outputs": [
    {
     "data": {
      "text/plain": [
       "Index(['Unnamed: 0', 'Species', 'Owner', 'Country.of.Origin', 'Farm.Name',\n",
       "       'Lot.Number', 'Mill', 'ICO.Number', 'Company', 'Altitude', 'Region',\n",
       "       'Producer', 'Number.of.Bags', 'Bag.Weight', 'In.Country.Partner',\n",
       "       'Harvest.Year', 'Grading.Date', 'Owner.1', 'Variety',\n",
       "       'Processing.Method', 'Aroma', 'Flavor', 'Aftertaste', 'Acidity', 'Body',\n",
       "       'Balance', 'Uniformity', 'Clean.Cup', 'Sweetness', 'Cupper.Points',\n",
       "       'Total.Cup.Points', 'Moisture', 'Category.One.Defects', 'Quakers',\n",
       "       'Color', 'Category.Two.Defects', 'Expiration', 'Certification.Body',\n",
       "       'Certification.Address', 'Certification.Contact', 'unit_of_measurement',\n",
       "       'altitude_low_meters', 'altitude_high_meters', 'altitude_mean_meters'],\n",
       "      dtype='object')"
      ]
     },
     "execution_count": 72,
     "metadata": {},
     "output_type": "execute_result"
    }
   ],
   "source": [
    "df = pd.read_csv(\"static/data/merged_data_cleaned.csv\")\n",
    "df.columns"
   ]
  },
  {
   "cell_type": "code",
   "execution_count": 73,
   "metadata": {},
   "outputs": [
    {
     "data": {
      "application/vnd.jupyter.widget-view+json": {
       "model_id": "b3313889e16846b79fc6f0618fca2228",
       "version_major": 2,
       "version_minor": 0
      },
      "text/plain": [
       "Button(description='Toggle Pandas/Lux', layout=Layout(top='5px', width='140px'), style=ButtonStyle())"
      ]
     },
     "metadata": {},
     "output_type": "display_data"
    },
    {
     "data": {
      "application/vnd.jupyter.widget-view+json": {
       "model_id": "059fa95bbf5d4207b6ffc03513bca6b5",
       "version_major": 2,
       "version_minor": 0
      },
      "text/plain": [
       "Output()"
      ]
     },
     "metadata": {},
     "output_type": "display_data"
    }
   ],
   "source": [
    "target_df = df.loc[:,['Country.of.Origin','Species','Aroma', 'Flavor', 'Aftertaste', 'Acidity', 'Body',\n",
    "       'Balance', 'Uniformity', 'Clean.Cup', 'Sweetness', 'Cupper.Points', 'Region', 'Processing.Method','Quakers',\n",
    "       'Total.Cup.Points','altitude_mean_meters']]\n",
    "\n",
    "target_df"
   ]
  },
  {
   "cell_type": "code",
   "execution_count": null,
   "metadata": {},
   "outputs": [],
   "source": []
  },
  {
   "cell_type": "code",
   "execution_count": 4,
   "metadata": {},
   "outputs": [],
   "source": [
    "target_df_without_null = target_df.dropna()"
   ]
  },
  {
   "cell_type": "code",
   "execution_count": 5,
   "metadata": {},
   "outputs": [
    {
     "data": {
      "text/plain": [
       "1009"
      ]
     },
     "execution_count": 5,
     "metadata": {},
     "output_type": "execute_result"
    }
   ],
   "source": [
    "target_df_without_null[\"Country.of.Origin\"].count()"
   ]
  },
  {
   "cell_type": "code",
   "execution_count": 13,
   "metadata": {
    "scrolled": true
   },
   "outputs": [
    {
     "data": {
      "application/vnd.jupyter.widget-view+json": {
       "model_id": "cfae567c084a4b828a28a9207e65765c",
       "version_major": 2,
       "version_minor": 0
      },
      "text/plain": [
       "Button(description='Toggle Pandas/Lux', layout=Layout(top='5px', width='140px'), style=ButtonStyle())"
      ]
     },
     "metadata": {},
     "output_type": "display_data"
    },
    {
     "data": {
      "application/vnd.jupyter.widget-view+json": {
       "model_id": "96603087c04b425cabdac795238e0b42",
       "version_major": 2,
       "version_minor": 0
      },
      "text/plain": [
       "Output()"
      ]
     },
     "metadata": {},
     "output_type": "display_data"
    }
   ],
   "source": [
    "target_df_without_null"
   ]
  },
  {
   "cell_type": "code",
   "execution_count": 74,
   "metadata": {},
   "outputs": [
    {
     "name": "stdout",
     "output_type": "stream",
     "text": [
      "Saved HTML to viz.html\n"
     ]
    }
   ],
   "source": [
    "target_df_without_null.save_as_html(\"viz.html\")"
   ]
  },
  {
   "cell_type": "code",
   "execution_count": 52,
   "metadata": {},
   "outputs": [],
   "source": [
    "predictor_variables = ['Aroma', 'Flavor', 'Aftertaste', 'Acidity', 'Body','Balance']"
   ]
  },
  {
   "cell_type": "code",
   "execution_count": 58,
   "metadata": {},
   "outputs": [
    {
     "name": "stdout",
     "output_type": "stream",
     "text": [
      "Aroma\n",
      "y = 5.94x + 37.16\n",
      "The correlation coefficient is: 0.6812422519779121\n",
      "The slope is: 5.940598393503549\n",
      "The intercept is: 37.16165792539636\n",
      "The standard error is: 0.20116823482845697\n",
      "Flavor\n",
      "y = 6.77x + 31.24\n",
      "The correlation coefficient is: 0.8349013888867108\n",
      "The slope is: 6.770161101396823\n",
      "The intercept is: 31.243711216979356\n",
      "The standard error is: 0.1406459267245522\n",
      "Aftertaste\n",
      "y = 6.6x + 33.38\n",
      "The correlation coefficient is: 0.8350070011617832\n",
      "The slope is: 6.598216216509604\n",
      "The intercept is: 33.378442926608955\n",
      "The standard error is: 0.13701663944170772\n",
      "Acidity\n",
      "y = 6.02x + 36.81\n",
      "The correlation coefficient is: 0.7060267779190216\n",
      "The slope is: 6.018787854983877\n",
      "The intercept is: 36.813387817702164\n",
      "The standard error is: 0.19024792802462434\n",
      "Body\n",
      "y = 6.44x + 33.76\n",
      "The correlation coefficient is: 0.6710999785516055\n",
      "The slope is: 6.44326172254146\n",
      "The intercept is: 33.75560565225146\n",
      "The standard error is: 0.22430398020254072\n",
      "Balance\n",
      "y = 6.01x + 37.02\n",
      "The correlation coefficient is: 0.7806256762310669\n",
      "The slope is: 6.012767976246012\n",
      "The intercept is: 37.01763047256233\n",
      "The standard error is: 0.1517036714521517\n"
     ]
    }
   ],
   "source": [
    "from sklearn import datasets, linear_model\n",
    "from scipy.stats import linregress\n",
    "for predictor in predictor_variables:\n",
    "    print(predictor)\n",
    "    X=target_df_without_null[predictor].values\n",
    "    Y=target_df_without_null['Total.Cup.Points'].values\n",
    "\n",
    "    (slope, intercept, rvalue, pvalue, stderr) = linregress(X,Y)\n",
    "    regress_values = X * slope + intercept\n",
    "    line_eq = \"y = \" + str(round(slope,2)) + \"x + \" + str(round(intercept,2))\n",
    "    print(line_eq)\n",
    "    print(f\"The correlation coefficient is: {rvalue}\")\n",
    "    print(f\"The slope is: {slope}\")\n",
    "    print(f\"The intercept is: {intercept}\")\n",
    "    print(f\"The standard error is: {stderr}\")\n",
    "    "
   ]
  },
  {
   "cell_type": "code",
   "execution_count": 71,
   "metadata": {},
   "outputs": [
    {
     "name": "stdout",
     "output_type": "stream",
     "text": [
      "[2.51125887 2.99982417 2.05643451]\n"
     ]
    },
    {
     "data": {
      "text/plain": [
       "array([88.36925327])"
      ]
     },
     "execution_count": 71,
     "metadata": {},
     "output_type": "execute_result"
    }
   ],
   "source": [
    "from sklearn import linear_model\n",
    "X=target_df_without_null[['Aftertaste','Flavor','Balance']]\n",
    "Y=target_df_without_null['Total.Cup.Points']\n",
    "# linear_model.LinearRegression().fit(X,Y)\n",
    "# pyplt.scatter(X, Y, color = 'red')\n",
    "# pyplt.show()\n",
    "regr = linear_model.LinearRegression()\n",
    "regr.fit(X, Y)\n",
    "\n",
    "print(regr.coef_)\n",
    "predictedCO2 = regr.predict([[8,8.4,8.5]])\n",
    "predictedCO2"
   ]
  },
  {
   "cell_type": "code",
   "execution_count": 63,
   "metadata": {},
   "outputs": [
    {
     "data": {
      "application/vnd.jupyter.widget-view+json": {
       "model_id": "3dbcd9f304894b708f0245960b8250b0",
       "version_major": 2,
       "version_minor": 0
      },
      "text/plain": [
       "Button(description='Toggle Pandas/Lux', layout=Layout(top='5px', width='140px'), style=ButtonStyle())"
      ]
     },
     "metadata": {},
     "output_type": "display_data"
    },
    {
     "data": {
      "application/vnd.jupyter.widget-view+json": {
       "model_id": "6015705f7b824840bfc334dc1b84bed5",
       "version_major": 2,
       "version_minor": 0
      },
      "text/plain": [
       "Output()"
      ]
     },
     "metadata": {},
     "output_type": "display_data"
    }
   ],
   "source": [
    "target_df_without_null"
   ]
  },
  {
   "cell_type": "code",
   "execution_count": 12,
   "metadata": {},
   "outputs": [
    {
     "data": {
      "application/vnd.jupyter.widget-view+json": {
       "model_id": "93cb91d352dd42ff8c71d2be88e10538",
       "version_major": 2,
       "version_minor": 0
      },
      "text/plain": [
       "Button(description='Toggle Pandas/Lux', layout=Layout(top='5px', width='140px'), style=ButtonStyle())"
      ]
     },
     "metadata": {},
     "output_type": "display_data"
    },
    {
     "data": {
      "application/vnd.jupyter.widget-view+json": {
       "model_id": "ac481a4d831f489ca56ef3d5639ca232",
       "version_major": 2,
       "version_minor": 0
      },
      "text/plain": [
       "Output()"
      ]
     },
     "metadata": {},
     "output_type": "display_data"
    }
   ],
   "source": [
    "target_df_without_null.Species.value_counts()"
   ]
  },
  {
   "cell_type": "code",
   "execution_count": 14,
   "metadata": {},
   "outputs": [],
   "source": [
    "charts = target_df_without_null.exported"
   ]
  },
  {
   "cell_type": "code",
   "execution_count": 15,
   "metadata": {},
   "outputs": [
    {
     "data": {
      "application/vnd.jupyter.widget-view+json": {
       "model_id": "48a9dcf6b03c4437a8923abac842785c",
       "version_major": 2,
       "version_minor": 0
      },
      "text/plain": [
       "LuxWidget(recommendations=[{'action': 'Vis List', 'description': 'Shows a vis list defined by the intent', 'vs…"
      ]
     },
     "metadata": {},
     "output_type": "display_data"
    }
   ],
   "source": [
    "charts"
   ]
  },
  {
   "cell_type": "code",
   "execution_count": 30,
   "metadata": {},
   "outputs": [
    {
     "name": "stderr",
     "output_type": "stream",
     "text": [
      "C:\\Users\\Marisabel Matta\\anaconda3\\lib\\site-packages\\lux\\core\\groupby.py:84: FutureWarning:Indexing with multiple keys (implicitly converted to a tuple of keys) will be deprecated, use a list instead.\n"
     ]
    },
    {
     "data": {
      "application/vnd.jupyter.widget-view+json": {
       "model_id": "a38addc688c14cccbb04c06616a638e2",
       "version_major": 2,
       "version_minor": 0
      },
      "text/plain": [
       "Button(description='Toggle Pandas/Lux', layout=Layout(top='5px', width='140px'), style=ButtonStyle())"
      ]
     },
     "metadata": {},
     "output_type": "display_data"
    },
    {
     "data": {
      "application/vnd.jupyter.widget-view+json": {
       "model_id": "f96dc528d4dd4e838706a18e0e31d11b",
       "version_major": 2,
       "version_minor": 0
      },
      "text/plain": [
       "Output()"
      ]
     },
     "metadata": {},
     "output_type": "display_data"
    }
   ],
   "source": [
    "grouped_processing_method = target_df_without_null.groupby(\"Processing.Method\")['Aroma', 'Flavor', 'Aftertaste', 'Acidity', 'Body',\n",
    "       'Balance', 'Uniformity', 'Clean.Cup', 'Sweetness', 'Cupper.Points','altitude_mean_meters'].mean()\n",
    "grouped_processing_method"
   ]
  },
  {
   "cell_type": "code",
   "execution_count": 75,
   "metadata": {},
   "outputs": [
    {
     "name": "stdout",
     "output_type": "stream",
     "text": [
      "Saved HTML to processingmethod.html\n"
     ]
    }
   ],
   "source": [
    "grouped_processing_method.save_as_html(\"processingmethod.html\")"
   ]
  },
  {
   "cell_type": "markdown",
   "metadata": {},
   "source": [
    "Washed/Wet seems to be the most ideal processing method for higher altitudes"
   ]
  },
  {
   "cell_type": "code",
   "execution_count": 28,
   "metadata": {
    "scrolled": false
   },
   "outputs": [
    {
     "name": "stderr",
     "output_type": "stream",
     "text": [
      "C:\\Users\\Marisabel Matta\\anaconda3\\lib\\site-packages\\lux\\core\\groupby.py:84: FutureWarning:Indexing with multiple keys (implicitly converted to a tuple of keys) will be deprecated, use a list instead.\n"
     ]
    },
    {
     "data": {
      "application/vnd.jupyter.widget-view+json": {
       "model_id": "496cbee644a247b18d030eb713a86163",
       "version_major": 2,
       "version_minor": 0
      },
      "text/plain": [
       "Button(description='Toggle Pandas/Lux', layout=Layout(top='5px', width='140px'), style=ButtonStyle())"
      ]
     },
     "metadata": {},
     "output_type": "display_data"
    },
    {
     "data": {
      "application/vnd.jupyter.widget-view+json": {
       "model_id": "bd2d94890054499e9958ad95b4928955",
       "version_major": 2,
       "version_minor": 0
      },
      "text/plain": [
       "Output()"
      ]
     },
     "metadata": {},
     "output_type": "display_data"
    }
   ],
   "source": [
    "target_df_without_null.groupby(['Country.of.Origin'])['Aroma', 'Flavor', 'Aftertaste', 'Acidity', 'Body',\n",
    "       'Balance', 'Uniformity', 'Clean.Cup', 'Sweetness', 'Cupper.Points','altitude_mean_meters'].mean()"
   ]
  },
  {
   "cell_type": "code",
   "execution_count": 82,
   "metadata": {},
   "outputs": [
    {
     "name": "stderr",
     "output_type": "stream",
     "text": [
      "C:\\Users\\Marisabel Matta\\anaconda3\\lib\\site-packages\\lux\\core\\groupby.py:84: FutureWarning:Indexing with multiple keys (implicitly converted to a tuple of keys) will be deprecated, use a list instead.\n"
     ]
    },
    {
     "name": "stdout",
     "output_type": "stream",
     "text": [
      "Saved HTML to country_grouped.html\n"
     ]
    }
   ],
   "source": [
    "country_df = target_df_without_null.groupby(['Country.of.Origin'])['Aroma', 'Flavor', 'Aftertaste', 'Acidity', 'Body','Balance', 'Uniformity', 'Clean.Cup', 'Sweetness', 'Cupper.Points','altitude_mean_meters'].mean()\n",
    "country_df.save_as_html(\"country_grouped.html\")"
   ]
  },
  {
   "cell_type": "code",
   "execution_count": 78,
   "metadata": {
    "scrolled": true
   },
   "outputs": [
    {
     "data": {
      "application/vnd.jupyter.widget-view+json": {
       "model_id": "2bf70c6b8a5241d58944641d09d9dcfa",
       "version_major": 2,
       "version_minor": 0
      },
      "text/plain": [
       "Button(description='Toggle Pandas/Lux', layout=Layout(top='5px', width='140px'), style=ButtonStyle())"
      ]
     },
     "metadata": {},
     "output_type": "display_data"
    },
    {
     "data": {
      "application/vnd.jupyter.widget-view+json": {
       "model_id": "b57f876c68db4f8185928d962f1e9a39",
       "version_major": 2,
       "version_minor": 0
      },
      "text/plain": [
       "Output()"
      ]
     },
     "metadata": {},
     "output_type": "display_data"
    }
   ],
   "source": [
    "df1 = target_df_without_null.groupby(['Country.of.Origin'])['Total.Cup.Points'].mean()\n",
    "df1"
   ]
  },
  {
   "cell_type": "code",
   "execution_count": 81,
   "metadata": {},
   "outputs": [
    {
     "data": {
      "application/vnd.jupyter.widget-view+json": {
       "model_id": "d7a87fbc56a84fc986ee341b4502fa6f",
       "version_major": 2,
       "version_minor": 0
      },
      "text/plain": [
       "Button(description='Toggle Pandas/Lux', layout=Layout(top='5px', width='140px'), style=ButtonStyle())"
      ]
     },
     "metadata": {},
     "output_type": "display_data"
    },
    {
     "data": {
      "application/vnd.jupyter.widget-view+json": {
       "model_id": "d535b9100fc64cf18b5d3531e75b8d52",
       "version_major": 2,
       "version_minor": 0
      },
      "text/plain": [
       "Output()"
      ]
     },
     "metadata": {},
     "output_type": "display_data"
    }
   ],
   "source": [
    "df1.reset_index()"
   ]
  },
  {
   "cell_type": "code",
   "execution_count": 80,
   "metadata": {},
   "outputs": [
    {
     "name": "stdout",
     "output_type": "stream",
     "text": [
      "Saved HTML to mean_cup_per_country.html\n"
     ]
    }
   ],
   "source": [
    "df1.reset_index()\n",
    "cup_points_per_country = df1.to_frame()\n",
    "cup_points_per_country.save_as_html(\"mean_cup_per_country.html\")"
   ]
  },
  {
   "cell_type": "markdown",
   "metadata": {},
   "source": [
    "Nicaragua, Guatemala and Mynmar have the highest mean altitudes. From the scores of flavor, aftertaste, acidity, body and balance, the top countries with frequent occurrence on the charts: United States, Papua New Guinea, Ethiopia, Japan"
   ]
  },
  {
   "cell_type": "code",
   "execution_count": 45,
   "metadata": {},
   "outputs": [
    {
     "data": {
      "text/html": [
       "<div>\n",
       "<style scoped>\n",
       "    .dataframe tbody tr th:only-of-type {\n",
       "        vertical-align: middle;\n",
       "    }\n",
       "\n",
       "    .dataframe tbody tr th {\n",
       "        vertical-align: top;\n",
       "    }\n",
       "\n",
       "    .dataframe thead th {\n",
       "        text-align: right;\n",
       "    }\n",
       "</style>\n",
       "<table border=\"1\" class=\"dataframe\">\n",
       "  <thead>\n",
       "    <tr style=\"text-align: right;\">\n",
       "      <th></th>\n",
       "      <th>Species</th>\n",
       "      <th>Aroma</th>\n",
       "      <th>Flavor</th>\n",
       "      <th>Aftertaste</th>\n",
       "      <th>Acidity</th>\n",
       "      <th>Body</th>\n",
       "      <th>Balance</th>\n",
       "      <th>Uniformity</th>\n",
       "      <th>Clean.Cup</th>\n",
       "      <th>Sweetness</th>\n",
       "      <th>Cupper.Points</th>\n",
       "      <th>Total.Cup.Points</th>\n",
       "      <th>altitude_mean_meters</th>\n",
       "    </tr>\n",
       "  </thead>\n",
       "  <tbody>\n",
       "    <tr>\n",
       "      <th>0</th>\n",
       "      <td>Arabica</td>\n",
       "      <td>8.67</td>\n",
       "      <td>8.83</td>\n",
       "      <td>8.67</td>\n",
       "      <td>8.75</td>\n",
       "      <td>8.50</td>\n",
       "      <td>8.42</td>\n",
       "      <td>10.00</td>\n",
       "      <td>10.00</td>\n",
       "      <td>10.00</td>\n",
       "      <td>8.75</td>\n",
       "      <td>90.58</td>\n",
       "      <td>2075.0</td>\n",
       "    </tr>\n",
       "    <tr>\n",
       "      <th>1</th>\n",
       "      <td>Arabica</td>\n",
       "      <td>8.75</td>\n",
       "      <td>8.67</td>\n",
       "      <td>8.50</td>\n",
       "      <td>8.58</td>\n",
       "      <td>8.42</td>\n",
       "      <td>8.42</td>\n",
       "      <td>10.00</td>\n",
       "      <td>10.00</td>\n",
       "      <td>10.00</td>\n",
       "      <td>8.58</td>\n",
       "      <td>89.92</td>\n",
       "      <td>2075.0</td>\n",
       "    </tr>\n",
       "    <tr>\n",
       "      <th>2</th>\n",
       "      <td>Arabica</td>\n",
       "      <td>8.42</td>\n",
       "      <td>8.50</td>\n",
       "      <td>8.42</td>\n",
       "      <td>8.42</td>\n",
       "      <td>8.33</td>\n",
       "      <td>8.42</td>\n",
       "      <td>10.00</td>\n",
       "      <td>10.00</td>\n",
       "      <td>10.00</td>\n",
       "      <td>9.25</td>\n",
       "      <td>89.75</td>\n",
       "      <td>1700.0</td>\n",
       "    </tr>\n",
       "    <tr>\n",
       "      <th>3</th>\n",
       "      <td>Arabica</td>\n",
       "      <td>8.17</td>\n",
       "      <td>8.58</td>\n",
       "      <td>8.42</td>\n",
       "      <td>8.42</td>\n",
       "      <td>8.50</td>\n",
       "      <td>8.25</td>\n",
       "      <td>10.00</td>\n",
       "      <td>10.00</td>\n",
       "      <td>10.00</td>\n",
       "      <td>8.67</td>\n",
       "      <td>89.00</td>\n",
       "      <td>2000.0</td>\n",
       "    </tr>\n",
       "    <tr>\n",
       "      <th>4</th>\n",
       "      <td>Arabica</td>\n",
       "      <td>8.25</td>\n",
       "      <td>8.50</td>\n",
       "      <td>8.25</td>\n",
       "      <td>8.50</td>\n",
       "      <td>8.42</td>\n",
       "      <td>8.33</td>\n",
       "      <td>10.00</td>\n",
       "      <td>10.00</td>\n",
       "      <td>10.00</td>\n",
       "      <td>8.58</td>\n",
       "      <td>88.83</td>\n",
       "      <td>2075.0</td>\n",
       "    </tr>\n",
       "    <tr>\n",
       "      <th>...</th>\n",
       "      <td>...</td>\n",
       "      <td>...</td>\n",
       "      <td>...</td>\n",
       "      <td>...</td>\n",
       "      <td>...</td>\n",
       "      <td>...</td>\n",
       "      <td>...</td>\n",
       "      <td>...</td>\n",
       "      <td>...</td>\n",
       "      <td>...</td>\n",
       "      <td>...</td>\n",
       "      <td>...</td>\n",
       "      <td>...</td>\n",
       "    </tr>\n",
       "    <tr>\n",
       "      <th>1331</th>\n",
       "      <td>Robusta</td>\n",
       "      <td>7.67</td>\n",
       "      <td>7.67</td>\n",
       "      <td>7.50</td>\n",
       "      <td>7.33</td>\n",
       "      <td>7.58</td>\n",
       "      <td>7.50</td>\n",
       "      <td>10.00</td>\n",
       "      <td>10.00</td>\n",
       "      <td>7.42</td>\n",
       "      <td>7.50</td>\n",
       "      <td>80.17</td>\n",
       "      <td>750.0</td>\n",
       "    </tr>\n",
       "    <tr>\n",
       "      <th>1332</th>\n",
       "      <td>Robusta</td>\n",
       "      <td>7.58</td>\n",
       "      <td>7.42</td>\n",
       "      <td>7.42</td>\n",
       "      <td>7.83</td>\n",
       "      <td>7.42</td>\n",
       "      <td>7.50</td>\n",
       "      <td>10.00</td>\n",
       "      <td>10.00</td>\n",
       "      <td>7.42</td>\n",
       "      <td>7.58</td>\n",
       "      <td>80.17</td>\n",
       "      <td>750.0</td>\n",
       "    </tr>\n",
       "    <tr>\n",
       "      <th>1333</th>\n",
       "      <td>Robusta</td>\n",
       "      <td>7.92</td>\n",
       "      <td>7.50</td>\n",
       "      <td>7.42</td>\n",
       "      <td>7.42</td>\n",
       "      <td>7.42</td>\n",
       "      <td>7.42</td>\n",
       "      <td>9.33</td>\n",
       "      <td>10.00</td>\n",
       "      <td>7.58</td>\n",
       "      <td>7.33</td>\n",
       "      <td>79.33</td>\n",
       "      <td>3000.0</td>\n",
       "    </tr>\n",
       "    <tr>\n",
       "      <th>1335</th>\n",
       "      <td>Robusta</td>\n",
       "      <td>7.50</td>\n",
       "      <td>7.67</td>\n",
       "      <td>7.75</td>\n",
       "      <td>7.75</td>\n",
       "      <td>5.17</td>\n",
       "      <td>5.25</td>\n",
       "      <td>10.00</td>\n",
       "      <td>10.00</td>\n",
       "      <td>8.42</td>\n",
       "      <td>8.58</td>\n",
       "      <td>78.08</td>\n",
       "      <td>40.0</td>\n",
       "    </tr>\n",
       "    <tr>\n",
       "      <th>1336</th>\n",
       "      <td>Robusta</td>\n",
       "      <td>7.33</td>\n",
       "      <td>7.33</td>\n",
       "      <td>7.17</td>\n",
       "      <td>7.42</td>\n",
       "      <td>7.50</td>\n",
       "      <td>7.17</td>\n",
       "      <td>9.33</td>\n",
       "      <td>9.33</td>\n",
       "      <td>7.42</td>\n",
       "      <td>7.17</td>\n",
       "      <td>77.17</td>\n",
       "      <td>795.0</td>\n",
       "    </tr>\n",
       "  </tbody>\n",
       "</table>\n",
       "<p>1109 rows × 13 columns</p>\n",
       "</div>"
      ],
      "text/plain": [
       "      Species  Aroma  Flavor  Aftertaste  Acidity  Body  Balance  Uniformity  \\\n",
       "0     Arabica   8.67    8.83        8.67     8.75  8.50     8.42       10.00   \n",
       "1     Arabica   8.75    8.67        8.50     8.58  8.42     8.42       10.00   \n",
       "2     Arabica   8.42    8.50        8.42     8.42  8.33     8.42       10.00   \n",
       "3     Arabica   8.17    8.58        8.42     8.42  8.50     8.25       10.00   \n",
       "4     Arabica   8.25    8.50        8.25     8.50  8.42     8.33       10.00   \n",
       "...       ...    ...     ...         ...      ...   ...      ...         ...   \n",
       "1331  Robusta   7.67    7.67        7.50     7.33  7.58     7.50       10.00   \n",
       "1332  Robusta   7.58    7.42        7.42     7.83  7.42     7.50       10.00   \n",
       "1333  Robusta   7.92    7.50        7.42     7.42  7.42     7.42        9.33   \n",
       "1335  Robusta   7.50    7.67        7.75     7.75  5.17     5.25       10.00   \n",
       "1336  Robusta   7.33    7.33        7.17     7.42  7.50     7.17        9.33   \n",
       "\n",
       "      Clean.Cup  Sweetness  Cupper.Points  Total.Cup.Points  \\\n",
       "0         10.00      10.00           8.75             90.58   \n",
       "1         10.00      10.00           8.58             89.92   \n",
       "2         10.00      10.00           9.25             89.75   \n",
       "3         10.00      10.00           8.67             89.00   \n",
       "4         10.00      10.00           8.58             88.83   \n",
       "...         ...        ...            ...               ...   \n",
       "1331      10.00       7.42           7.50             80.17   \n",
       "1332      10.00       7.42           7.58             80.17   \n",
       "1333      10.00       7.58           7.33             79.33   \n",
       "1335      10.00       8.42           8.58             78.08   \n",
       "1336       9.33       7.42           7.17             77.17   \n",
       "\n",
       "      altitude_mean_meters  \n",
       "0                   2075.0  \n",
       "1                   2075.0  \n",
       "2                   1700.0  \n",
       "3                   2000.0  \n",
       "4                   2075.0  \n",
       "...                    ...  \n",
       "1331                 750.0  \n",
       "1332                 750.0  \n",
       "1333                3000.0  \n",
       "1335                  40.0  \n",
       "1336                 795.0  \n",
       "\n",
       "[1109 rows x 13 columns]"
      ]
     },
     "execution_count": 45,
     "metadata": {},
     "output_type": "execute_result"
    }
   ],
   "source": [
    "data = coffee_df.drop(\"Species\", axis=1)\n",
    "feature_names = data.columns\n",
    "data"
   ]
  }
 ],
 "metadata": {
  "kernelspec": {
   "display_name": "Python 3",
   "language": "python",
   "name": "python3"
  },
  "language_info": {
   "codemirror_mode": {
    "name": "ipython",
    "version": 3
   },
   "file_extension": ".py",
   "mimetype": "text/x-python",
   "name": "python",
   "nbconvert_exporter": "python",
   "pygments_lexer": "ipython3",
   "version": "3.8.5"
  },
  "varInspector": {
   "cols": {
    "lenName": 16,
    "lenType": 16,
    "lenVar": 40
   },
   "kernels_config": {
    "python": {
     "delete_cmd_postfix": "",
     "delete_cmd_prefix": "del ",
     "library": "var_list.py",
     "varRefreshCmd": "print(var_dic_list())"
    },
    "r": {
     "delete_cmd_postfix": ") ",
     "delete_cmd_prefix": "rm(",
     "library": "var_list.r",
     "varRefreshCmd": "cat(var_dic_list()) "
    }
   },
   "types_to_exclude": [
    "module",
    "function",
    "builtin_function_or_method",
    "instance",
    "_Feature"
   ],
   "window_display": false
  }
 },
 "nbformat": 4,
 "nbformat_minor": 2
}
