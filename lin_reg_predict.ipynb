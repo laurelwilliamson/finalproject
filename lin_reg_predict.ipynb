{
 "cells": [
  {
   "cell_type": "code",
   "execution_count": 47,
   "metadata": {},
   "outputs": [],
   "source": [
    "# example of training a final classification model\n",
    "from sklearn.linear_model import LogisticRegression\n",
    "from sklearn.datasets import make_blobs\n",
    "import pandas as pd\n",
    "\n",
    "\n",
    "old_df = pd.read_csv('/Users/laurelwilliamson/Desktop/GITHUB/testingstuff/altitudecuppoints.csv', header=0)\n",
    "df = old_df[old_df['Mean Altitude in Meters'].notna()]\n",
    "\n",
    "X = df['Mean Altitude in Meters'].to_numpy()\n",
    "y = df['Total Cup Points'].to_numpy()\n",
    "\n",
    "X = X.reshape(-1, 1)\n",
    "\n",
    "\n",
    "# X = X.reshape(-1, 1)\n",
    "y = y.reshape(-1, 1)\n",
    "\n",
    "\n",
    "# X = df[['Total Cup Points']]\n",
    "\n",
    "# y = df[['Mean Altitude in Meters']]\n",
    "\n",
    "\n",
    "\n"
   ]
  },
  {
   "cell_type": "code",
   "execution_count": 48,
   "metadata": {},
   "outputs": [],
   "source": [
    "from sklearn.model_selection import train_test_split\n",
    "\n",
    "X_train, X_test, y_train, y_test = train_test_split(X, y, random_state = 42)\n",
    "\n"
   ]
  },
  {
   "cell_type": "code",
   "execution_count": 49,
   "metadata": {},
   "outputs": [
    {
     "data": {
      "text/plain": [
       "array([[91, 90, 90, ..., 79, 78, 77]])"
      ]
     },
     "execution_count": 49,
     "metadata": {},
     "output_type": "execute_result"
    }
   ],
   "source": [
    "from sklearn.linear_model import LinearRegression\n",
    "\n",
    "X.reshape(1, -1)\n",
    "y.reshape(1, -1)\n",
    "\n",
    "\n",
    "# clf.predict([1997])\n",
    "# #Output: array([ 4.5])\n",
    "\n",
    "# clf.predict([2001])\n",
    "# #Output: array([ 8.9])"
   ]
  },
  {
   "cell_type": "code",
   "execution_count": 50,
   "metadata": {},
   "outputs": [
    {
     "name": "stdout",
     "output_type": "stream",
     "text": [
      "MSE: 7.115552709427184\n",
      "R^2: -0.008970854019456853\n"
     ]
    }
   ],
   "source": [
    "linear_model = LinearRegression()\n",
    "\n",
    "linear_model.fit(X_train, y_train)\n",
    "\n",
    "y_pred = linear_model.predict(X_test)\n",
    "\n",
    "from sklearn.metrics import mean_squared_error\n",
    "\n",
    "from sklearn.metrics import r2_score\n",
    "\n",
    "rms = mean_squared_error(y_test, y_pred)\n",
    "\n",
    "r2 =  r2_score(y_test, y_pred)\n",
    "\n",
    "print(\"MSE:\", rms)\n",
    "\n",
    "print(\"R^2:\", r2)"
   ]
  },
  {
   "cell_type": "code",
   "execution_count": null,
   "metadata": {},
   "outputs": [],
   "source": []
  }
 ],
 "metadata": {
  "kernelspec": {
   "display_name": "Python 3",
   "language": "python",
   "name": "python3"
  },
  "language_info": {
   "codemirror_mode": {
    "name": "ipython",
    "version": 3
   },
   "file_extension": ".py",
   "mimetype": "text/x-python",
   "name": "python",
   "nbconvert_exporter": "python",
   "pygments_lexer": "ipython3",
   "version": "3.8.3"
  }
 },
 "nbformat": 4,
 "nbformat_minor": 4
}
